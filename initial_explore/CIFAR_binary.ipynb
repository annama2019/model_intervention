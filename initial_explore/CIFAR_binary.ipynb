{
 "cells": [
  {
   "cell_type": "code",
   "execution_count": null,
   "metadata": {
    "collapsed": true
   },
   "outputs": [],
   "source": [
    "import os\n",
    "os.environ[\"CUDA_DEVICE_ORDER\"]=\"PCI_BUS_ID\" \n",
    "os.environ[\"CUDA_VISIBLE_DEVICES\"]=\"1\"\n",
    "import math\n",
    "import torch\n",
    "import torch.nn as nn\n",
    "import torch.optim as optim\n",
    "import torch.nn.functional as nnf\n",
    "import numpy as np\n",
    "import pandas as pd\n",
    "import timm\n",
    "from torchvision import datasets\n",
    "from torch.utils.data import DataLoader\n",
    "from torch.utils.data import ConcatDataset\n",
    "from torchvision import transforms as T\n",
    "from torch.nn.functional import interpolate"
   ]
  },
  {
   "cell_type": "code",
   "execution_count": null,
   "metadata": {
    "collapsed": true
   },
   "outputs": [],
   "source": [
    "mean = torch.reshape(torch.tensor([0.4914, 0.4822, 0.4465]),(3,1,1)).cuda()\n",
    "std = torch.reshape(torch.tensor([0.2471, 0.2435, 0.2616]),(3,1,1)).cuda()\n",
    "transform = T.Compose([\n",
    "                T.RandomCrop(32, padding=4),\n",
    "                T.RandomHorizontalFlip(),\n",
    "                T.ToTensor(),])\n",
    "                #T.Normalize(mean, std),])\n",
    "\n",
    "#cifar10_train1 = datasets.CIFAR10(\"../data\", train=True, download=True, transform=T.ToTensor())\n",
    "cifar10_train2 = datasets.CIFAR10(\"../data\", train=True, download=True, transform=transform)\n",
    "\n",
    "#cifar10_train = ConcatDataset([cifar10_train1,cifar10_train2])\n",
    "cifar10_test = datasets.CIFAR10(\"../data\", train=False, download=True, transform=T.ToTensor())\n",
    "train_loader = DataLoader(cifar10_train2, batch_size = 100, shuffle=True)\n",
    "test_loader = DataLoader(cifar10_test, batch_size = 100, shuffle=False)\n",
    "#my_model = timm.create_model('resnet18',pretrained = False).cuda()"
   ]
  }
 ],
 "metadata": {
  "kernelspec": {
   "display_name": "Python 3",
   "language": "python",
   "name": "python3"
  },
  "language_info": {
   "codemirror_mode": {
    "name": "ipython",
    "version": 3
   },
   "file_extension": ".py",
   "mimetype": "text/x-python",
   "name": "python",
   "nbconvert_exporter": "python",
   "pygments_lexer": "ipython3",
   "version": "3.6.8"
  }
 },
 "nbformat": 4,
 "nbformat_minor": 2
}
